{
  "nbformat": 4,
  "nbformat_minor": 0,
  "metadata": {
    "colab": {
      "name": "classifier_train.ipynb",
      "provenance": [],
      "collapsed_sections": [],
      "authorship_tag": "ABX9TyMhfTKJQcuSMYlQzxnpnZlX",
      "include_colab_link": true
    },
    "kernelspec": {
      "name": "python3",
      "display_name": "Python 3"
    },
    "language_info": {
      "name": "python"
    },
    "accelerator": "GPU"
  },
  "cells": [
    {
      "cell_type": "markdown",
      "metadata": {
        "id": "view-in-github",
        "colab_type": "text"
      },
      "source": [
        "<a href=\"https://colab.research.google.com/github/CrisLeaf/connect-4-bot/blob/master/classifier_train.ipynb\" target=\"_parent\"><img src=\"https://colab.research.google.com/assets/colab-badge.svg\" alt=\"Open In Colab\"/></a>"
      ]
    },
    {
      "cell_type": "markdown",
      "source": [
        "# How to Train a Connect 4 Classifier\n",
        "\n",
        "Connect 4 is a two player board game, in which the players choose a color and then take turns dropping colored discs into a 6x7 grid. The objective of the game is to be the first to form a horizontal, vertical or diagonal line of four of one's own discs. \n",
        "\n",
        "Winning examples:\n",
        "\n",
        "<img src=\"https://raw.githubusercontent.com/CrisLeaf/connect-4-bot/master/images/win1.jpeg\" height=200, width=200>\n",
        "<img src=\"https://raw.githubusercontent.com/CrisLeaf/connect-4-bot/master/images/win2.jpeg\" height=200, width=200>\n",
        "<img src=\"https://raw.githubusercontent.com/CrisLeaf/connect-4-bot/master/images/win3.jpeg\" height=200, width=200>\n",
        "<img src=\"https://raw.githubusercontent.com/CrisLeaf/connect-4-bot/master/images/win4.jpeg\" height=200, width=200>\n",
        "\n",
        "</br>\n",
        "</br>\n",
        "We are going to build a game classifier, which predicts when a game is going to be a win, a lose or a draw for a certain player. After that, one can also program a connect 4 bot using the game classifier to preempt each play."
      ],
      "metadata": {
        "id": "dP0atYAGWqJ_"
      }
    },
    {
      "cell_type": "markdown",
      "source": [
        "Import initial libraries."
      ],
      "metadata": {
        "id": "P4LhK8fQgXms"
      }
    },
    {
      "cell_type": "code",
      "source": [
        "import numpy as np\n",
        "import matplotlib.pyplot as plt\n",
        "import seaborn as sns\n",
        "import pandas as pd"
      ],
      "metadata": {
        "id": "wIKs3J0ugRHY"
      },
      "execution_count": null,
      "outputs": []
    },
    {
      "cell_type": "markdown",
      "source": [
        "## Load Dataset\n",
        "\n",
        "The dataset was downloaded from [kaggle](https://www.kaggle.com/tbrewer/connect-4), and it has:\n",
        "* 376,640 rows, each represents the end results of a Connect 4 game.\n",
        "* 1-42 columns are the positions on the grind from left to right, top to bottom. Each element in these columns represents the player's piece: 1, and -1 are players pieces, while 0 is an empty cell.\n",
        "* Column 43 marks the winner of the game: 1, -1 and 0 for tie games."
      ],
      "metadata": {
        "id": "r2gaRNxbFibX"
      }
    },
    {
      "cell_type": "code",
      "source": [
        "from google.colab import drive\n",
        "drive.mount(\"/content/gdrive\")"
      ],
      "metadata": {
        "colab": {
          "base_uri": "https://localhost:8080/"
        },
        "id": "k0UoVCk-Fk7u",
        "outputId": "b1ad7969-0046-4716-af10-7c70b1383705"
      },
      "execution_count": null,
      "outputs": [
        {
          "output_type": "stream",
          "name": "stdout",
          "text": [
            "Mounted at /content/gdrive\n"
          ]
        }
      ]
    },
    {
      "cell_type": "code",
      "source": [
        "df = pd.read_csv(\"/content/gdrive/My Drive/machine-learning/connect-4-bot/c4_game_database.csv\")\n",
        "df = df.sample(frac=1)\n",
        "df = df.copy()"
      ],
      "metadata": {
        "id": "cJNfZCc9Ft6l"
      },
      "execution_count": null,
      "outputs": []
    },
    {
      "cell_type": "code",
      "source": [
        "df.info()"
      ],
      "metadata": {
        "colab": {
          "base_uri": "https://localhost:8080/"
        },
        "id": "l2irVXOGF2dY",
        "outputId": "d083ed26-3e63-4a86-866b-68370b0db64b"
      },
      "execution_count": null,
      "outputs": [
        {
          "output_type": "stream",
          "name": "stdout",
          "text": [
            "<class 'pandas.core.frame.DataFrame'>\n",
            "Int64Index: 376640 entries, 126595 to 127180\n",
            "Data columns (total 43 columns):\n",
            " #   Column  Non-Null Count   Dtype  \n",
            "---  ------  --------------   -----  \n",
            " 0   pos_01  376640 non-null  float64\n",
            " 1   pos_02  376640 non-null  float64\n",
            " 2   pos_03  376640 non-null  float64\n",
            " 3   pos_04  376640 non-null  float64\n",
            " 4   pos_05  376640 non-null  float64\n",
            " 5   pos_06  376640 non-null  float64\n",
            " 6   pos_07  376640 non-null  float64\n",
            " 7   pos_08  376640 non-null  float64\n",
            " 8   pos_09  376640 non-null  float64\n",
            " 9   pos_10  376640 non-null  float64\n",
            " 10  pos_11  376640 non-null  float64\n",
            " 11  pos_12  376640 non-null  float64\n",
            " 12  pos_13  376640 non-null  float64\n",
            " 13  pos_14  376640 non-null  float64\n",
            " 14  pos_15  376640 non-null  float64\n",
            " 15  pos_16  376640 non-null  float64\n",
            " 16  pos_17  376640 non-null  float64\n",
            " 17  pos_18  376640 non-null  float64\n",
            " 18  pos_19  376640 non-null  float64\n",
            " 19  pos_20  376640 non-null  float64\n",
            " 20  pos_21  376640 non-null  float64\n",
            " 21  pos_22  376640 non-null  float64\n",
            " 22  pos_23  376640 non-null  float64\n",
            " 23  pos_24  376640 non-null  float64\n",
            " 24  pos_25  376640 non-null  float64\n",
            " 25  pos_26  376640 non-null  float64\n",
            " 26  pos_27  376640 non-null  float64\n",
            " 27  pos_28  376640 non-null  float64\n",
            " 28  pos_29  376640 non-null  float64\n",
            " 29  pos_30  376640 non-null  float64\n",
            " 30  pos_31  376640 non-null  float64\n",
            " 31  pos_32  376640 non-null  float64\n",
            " 32  pos_33  376640 non-null  float64\n",
            " 33  pos_34  376640 non-null  float64\n",
            " 34  pos_35  376640 non-null  float64\n",
            " 35  pos_36  376640 non-null  float64\n",
            " 36  pos_37  376640 non-null  float64\n",
            " 37  pos_38  376640 non-null  float64\n",
            " 38  pos_39  376640 non-null  float64\n",
            " 39  pos_40  376640 non-null  float64\n",
            " 40  pos_41  376640 non-null  float64\n",
            " 41  pos_42  376640 non-null  float64\n",
            " 42  winner  376619 non-null  float64\n",
            "dtypes: float64(43)\n",
            "memory usage: 126.4 MB\n"
          ]
        }
      ]
    },
    {
      "cell_type": "markdown",
      "source": [
        "## Exploratory Data Analysis"
      ],
      "metadata": {
        "id": "z-C-FQCEHVj_"
      }
    },
    {
      "cell_type": "markdown",
      "source": [
        "### Missing Values"
      ],
      "metadata": {
        "id": "EhPxZMRHJ0Uc"
      }
    },
    {
      "cell_type": "code",
      "source": [
        "missing_num = sum(df[\"winner\"].isna())\n",
        "print(f\"Number of missing values of winner column: {missing_num}\")\n",
        "print(f\"Percentage of missing values of winner column: {missing_num/df.shape[0]:.2%}\")"
      ],
      "metadata": {
        "id": "KupQRBKHGXjg",
        "colab": {
          "base_uri": "https://localhost:8080/"
        },
        "outputId": "b2ef30b0-4a67-4d7c-a427-1bb5183f8d89"
      },
      "execution_count": null,
      "outputs": [
        {
          "output_type": "stream",
          "name": "stdout",
          "text": [
            "Number of missing values of winner column: 21\n",
            "Percentage of missing values of winner column: 0.01%\n"
          ]
        }
      ]
    },
    {
      "cell_type": "markdown",
      "source": [
        "Only 0.01% of rows in the `winner` column are missing. We drop them.\n",
        "\n"
      ],
      "metadata": {
        "id": "rHy94tPNHsZS"
      }
    },
    {
      "cell_type": "code",
      "source": [
        "df.dropna(inplace=True)\n",
        "df = df.reset_index(drop=True)"
      ],
      "metadata": {
        "id": "K88BHSaXIphM"
      },
      "execution_count": null,
      "outputs": []
    },
    {
      "cell_type": "code",
      "source": [
        "df.info()"
      ],
      "metadata": {
        "colab": {
          "base_uri": "https://localhost:8080/"
        },
        "id": "5RoPqyXNJIyu",
        "outputId": "26ab063f-9337-43da-8f48-44d219ecdd8e"
      },
      "execution_count": null,
      "outputs": [
        {
          "output_type": "stream",
          "name": "stdout",
          "text": [
            "<class 'pandas.core.frame.DataFrame'>\n",
            "RangeIndex: 376619 entries, 0 to 376618\n",
            "Data columns (total 43 columns):\n",
            " #   Column  Non-Null Count   Dtype  \n",
            "---  ------  --------------   -----  \n",
            " 0   pos_01  376619 non-null  float64\n",
            " 1   pos_02  376619 non-null  float64\n",
            " 2   pos_03  376619 non-null  float64\n",
            " 3   pos_04  376619 non-null  float64\n",
            " 4   pos_05  376619 non-null  float64\n",
            " 5   pos_06  376619 non-null  float64\n",
            " 6   pos_07  376619 non-null  float64\n",
            " 7   pos_08  376619 non-null  float64\n",
            " 8   pos_09  376619 non-null  float64\n",
            " 9   pos_10  376619 non-null  float64\n",
            " 10  pos_11  376619 non-null  float64\n",
            " 11  pos_12  376619 non-null  float64\n",
            " 12  pos_13  376619 non-null  float64\n",
            " 13  pos_14  376619 non-null  float64\n",
            " 14  pos_15  376619 non-null  float64\n",
            " 15  pos_16  376619 non-null  float64\n",
            " 16  pos_17  376619 non-null  float64\n",
            " 17  pos_18  376619 non-null  float64\n",
            " 18  pos_19  376619 non-null  float64\n",
            " 19  pos_20  376619 non-null  float64\n",
            " 20  pos_21  376619 non-null  float64\n",
            " 21  pos_22  376619 non-null  float64\n",
            " 22  pos_23  376619 non-null  float64\n",
            " 23  pos_24  376619 non-null  float64\n",
            " 24  pos_25  376619 non-null  float64\n",
            " 25  pos_26  376619 non-null  float64\n",
            " 26  pos_27  376619 non-null  float64\n",
            " 27  pos_28  376619 non-null  float64\n",
            " 28  pos_29  376619 non-null  float64\n",
            " 29  pos_30  376619 non-null  float64\n",
            " 30  pos_31  376619 non-null  float64\n",
            " 31  pos_32  376619 non-null  float64\n",
            " 32  pos_33  376619 non-null  float64\n",
            " 33  pos_34  376619 non-null  float64\n",
            " 34  pos_35  376619 non-null  float64\n",
            " 35  pos_36  376619 non-null  float64\n",
            " 36  pos_37  376619 non-null  float64\n",
            " 37  pos_38  376619 non-null  float64\n",
            " 38  pos_39  376619 non-null  float64\n",
            " 39  pos_40  376619 non-null  float64\n",
            " 40  pos_41  376619 non-null  float64\n",
            " 41  pos_42  376619 non-null  float64\n",
            " 42  winner  376619 non-null  float64\n",
            "dtypes: float64(43)\n",
            "memory usage: 123.6 MB\n"
          ]
        }
      ]
    },
    {
      "cell_type": "markdown",
      "source": [
        "### `winner` Statistics"
      ],
      "metadata": {
        "id": "aH7sSQl8J5S0"
      }
    },
    {
      "cell_type": "code",
      "source": [
        "fig, ax = plt.subplots(figsize=(6, 6))\n",
        "plt.title(\"Winner Distribution Pie Chart\", fontsize=15)\n",
        "plt.pie(df[\"winner\"].value_counts().sort_index().values, labels=[\"Player 1\", \"Draw\", \"Player 2\"],\n",
        "        colors=[\"red\", \"black\", \"yellow\"], autopct=\"%1.2f%%\")\n",
        "plt.show()"
      ],
      "metadata": {
        "colab": {
          "base_uri": "https://localhost:8080/",
          "height": 375
        },
        "id": "xEWL0vcIJJdr",
        "outputId": "d37791a4-4143-4855-b74a-c890adaedddc"
      },
      "execution_count": null,
      "outputs": [
        {
          "output_type": "display_data",
          "data": {
            "image/png": "[encoded data removed]",
            "text/plain": [
              "<Figure size 432x432 with 1 Axes>"
            ]
          },
          "metadata": {}
        }
      ]
    },
    {
      "cell_type": "markdown",
      "source": [
        "The majority of the games corresponds to a win or lose (depending on the player). And less than 4% corresponds to draw games. In that sense, we have an imbalanced dataset"
      ],
      "metadata": {
        "id": "3I0JkNKlgnNS"
      }
    },
    {
      "cell_type": "markdown",
      "source": [
        "### Games Statistics"
      ],
      "metadata": {
        "id": "t2IkpCDs3frM"
      }
    },
    {
      "cell_type": "code",
      "source": [
        "from matplotlib.patches import Patch\n",
        "from matplotlib.lines import Line2D\n",
        "\n",
        "fig, axes = plt.subplots(nrows=6, ncols=7, figsize=(6, 7))\n",
        "\n",
        "i = 0\n",
        "for j in range(42):\n",
        "    axes[i, j % 7].pie(df.iloc[:, j].value_counts().sort_index().values, \n",
        "                       colors=[\"red\", \"black\", \"yellow\"])\n",
        "    if j % 7 == 6:\n",
        "        i += 1\n",
        "\n",
        "legend_elements = [Line2D([0], [0], marker=\"o\", color=\"w\", label=\"Player 1\",\n",
        "                          markerfacecolor=\"red\", markersize=10),\n",
        "                   Line2D([0], [0], marker=\"o\", color=\"w\", label=\"Player 2\",\n",
        "                          markerfacecolor=\"yellow\", markersize=10),\n",
        "                   Line2D([0], [0], marker=\"o\", color=\"w\", label=\"Empty\",\n",
        "                          markerfacecolor=\"black\", markersize=10)]\n",
        "axes[2, 6].legend(handles=legend_elements, loc=\"center\", bbox_to_anchor=(2, -0.2))\n",
        "fig.suptitle(\"Most Played Pieces on Each Space\", fontsize=15)\n",
        "\n",
        "plt.show()"
      ],
      "metadata": {
        "id": "bZBhm9KKMiNU",
        "colab": {
          "base_uri": "https://localhost:8080/",
          "height": 455
        },
        "outputId": "76ee504a-ba43-4efa-a239-205a51c720f2"
      },
      "execution_count": null,
      "outputs": [
        {
          "output_type": "display_data",
          "data": {
            "image/png": "[encoded data removed]",
            "text/plain": [
              "<Figure size 432x504 with 42 Axes>"
            ]
          },
          "metadata": {}
        }
      ]
    },
    {
      "cell_type": "markdown",
      "source": [
        "## Classifier Train\n",
        "\n",
        "Here we fit some well known classifiers to select the best scored one. Two of them being classical machine learning models, and due to the nature of the problem, the remaining four being tree-based models."
      ],
      "metadata": {
        "id": "ByG5UpGQGRhj"
      }
    },
    {
      "cell_type": "markdown",
      "source": [
        "### Train Test Split\n",
        "\n",
        "First split the dataset into 80% of Training and 20% of Testing."
      ],
      "metadata": {
        "id": "IwVnYm77tVmV"
      }
    },
    {
      "cell_type": "code",
      "source": [
        "from sklearn.model_selection import train_test_split\n",
        "X_train, X_test, y_train, y_test = train_test_split(df.drop(columns=\"winner\"), df[\"winner\"],\n",
        "                                                    test_size=0.2, random_state=1234)"
      ],
      "metadata": {
        "id": "_MmodiwW4NVh"
      },
      "execution_count": null,
      "outputs": []
    },
    {
      "cell_type": "code",
      "source": [
        "print(X_train.shape, X_test.shape)\n",
        "print(y_train.shape, y_test.shape)"
      ],
      "metadata": {
        "colab": {
          "base_uri": "https://localhost:8080/"
        },
        "id": "QnoBht4z8_R-",
        "outputId": "878a5485-2810-4382-e46e-e960c6325e75"
      },
      "execution_count": null,
      "outputs": [
        {
          "output_type": "stream",
          "name": "stdout",
          "text": [
            "(301295, 42) (75324, 42)\n",
            "(301295,) (75324,)\n"
          ]
        }
      ]
    },
    {
      "cell_type": "markdown",
      "source": [
        "### Model Selection\n",
        "\n",
        "Now let's check the 5-cross validated score for each model. As the dataset has a low percentage of draw games, one need to use a suitable metric. In our case, we used the `f1_weighted` score, apporpiate for imbalanced multiclass classification problems.\n",
        "\n"
      ],
      "metadata": {
        "id": "7729EvwVtdzb"
      }
    },
    {
      "cell_type": "markdown",
      "source": [
        "#### Logistic Regression"
      ],
      "metadata": {
        "id": "og53_yoxiYAa"
      }
    },
    {
      "cell_type": "code",
      "source": [
        "from sklearn.linear_model import LogisticRegression\n",
        "from sklearn.model_selection import cross_val_score\n",
        "\n",
        "logreg = LogisticRegression(random_state=222)\n",
        "scores = cross_val_score(logreg, X_train, y_train, scoring=\"f1_weighted\", cv=5)\n",
        "print(f\"Logistic Regression CV Score: {np.mean(scores)}\")"
      ],
      "metadata": {
        "id": "FHi5b5EFNz89",
        "colab": {
          "base_uri": "https://localhost:8080/"
        },
        "outputId": "63b82585-f07c-4aec-ed0f-2a34a3854966"
      },
      "execution_count": null,
      "outputs": [
        {
          "output_type": "stream",
          "name": "stdout",
          "text": [
            "Logistic Regression CV Score: 0.8357280156852409\n"
          ]
        }
      ]
    },
    {
      "cell_type": "markdown",
      "source": [
        "#### Naive Bayes"
      ],
      "metadata": {
        "id": "-be_JZBxi6tM"
      }
    },
    {
      "cell_type": "code",
      "source": [
        "from sklearn.naive_bayes import GaussianNB\n",
        "\n",
        "gnb = GaussianNB()\n",
        "scores = cross_val_score(gnb, X_train, y_train, scoring=\"f1_weighted\", cv=5)\n",
        "print(f\"Naive Bayes CV Score: {np.mean(scores)}\")"
      ],
      "metadata": {
        "id": "Vu8Co89eDYwx",
        "colab": {
          "base_uri": "https://localhost:8080/"
        },
        "outputId": "b8689e8e-1a06-41d8-bb1d-6db79322b422"
      },
      "execution_count": null,
      "outputs": [
        {
          "output_type": "stream",
          "name": "stdout",
          "text": [
            "Naive Bayes CV Score: 0.634403737686353\n"
          ]
        }
      ]
    },
    {
      "cell_type": "markdown",
      "source": [
        "#### Random Forest"
      ],
      "metadata": {
        "id": "AkkEASHNjHLP"
      }
    },
    {
      "cell_type": "code",
      "source": [
        "from sklearn.ensemble import RandomForestClassifier\n",
        "\n",
        "rfc = RandomForestClassifier(random_state=222)\n",
        "scores = cross_val_score(rfc, X_train, y_train, scoring=\"f1_weighted\", cv=5)\n",
        "print(f\"Random Forest CV Score: {np.mean(scores)}\")"
      ],
      "metadata": {
        "colab": {
          "base_uri": "https://localhost:8080/"
        },
        "id": "YRzMA8LOhr_l",
        "outputId": "7a8051a5-8441-4575-e1e3-a33cf9e7a07a"
      },
      "execution_count": null,
      "outputs": [
        {
          "output_type": "stream",
          "name": "stdout",
          "text": [
            "Random Forest CV Score: 0.9683492914264769\n"
          ]
        }
      ]
    },
    {
      "cell_type": "markdown",
      "source": [
        "#### XGBoost"
      ],
      "metadata": {
        "id": "M3ztdK7uFxJG"
      }
    },
    {
      "cell_type": "code",
      "source": [
        "from xgboost import XGBClassifier\n",
        "\n",
        "xgb = XGBClassifier(objective=\"multi:softmax\", num_class=3, random_state=222)\n",
        "scores = cross_val_score(xgb, X_train, y_train, scoring=\"f1_weighted\", cv=5)\n",
        "print(f\"XGBoost CV Score: {np.mean(scores)}\")"
      ],
      "metadata": {
        "colab": {
          "base_uri": "https://localhost:8080/"
        },
        "id": "8gTYk80CFSe-",
        "outputId": "344d0469-dd34-443f-b29f-b6b5e96af0b4"
      },
      "execution_count": null,
      "outputs": [
        {
          "output_type": "stream",
          "name": "stdout",
          "text": [
            "XGBoost CV Score: 0.8129045596487721\n"
          ]
        }
      ]
    },
    {
      "cell_type": "markdown",
      "source": [
        "#### LightGBM"
      ],
      "metadata": {
        "id": "ANDswuggHvHr"
      }
    },
    {
      "cell_type": "code",
      "source": [
        "from lightgbm import LGBMClassifier\n",
        "\n",
        "lgbm = LGBMClassifier(objective=\"multiclass\", random_state=222)\n",
        "scores = cross_val_score(lgbm, X_train, y_train, scoring=\"f1_weighted\", cv=5)\n",
        "print(f\"LightGBM CV Score: {np.mean(scores)}\")"
      ],
      "metadata": {
        "colab": {
          "base_uri": "https://localhost:8080/"
        },
        "id": "lE-Fa4-jGbmc",
        "outputId": "30708f9e-27f0-48ba-80f3-e32b7e1ff67b"
      },
      "execution_count": null,
      "outputs": [
        {
          "output_type": "stream",
          "name": "stdout",
          "text": [
            "LightGBM CV Score: 0.9711861574040501\n"
          ]
        }
      ]
    },
    {
      "cell_type": "markdown",
      "source": [
        "#### CatBoost"
      ],
      "metadata": {
        "id": "lfHhhN9aHxcY"
      }
    },
    {
      "cell_type": "code",
      "source": [
        "!pip install catboost\n",
        "from catboost import CatBoostClassifier\n",
        "\n",
        "catb = CatBoostClassifier(verbose=0, random_state=222)\n",
        "scores = cross_val_score(catb, X_train, y_train, scoring=\"f1_weighted\", cv=5)\n",
        "print(f\"CatBoost CV Score: {np.mean(scores)}\")"
      ],
      "metadata": {
        "colab": {
          "base_uri": "https://localhost:8080/"
        },
        "id": "ULdyiaMTHuNk",
        "outputId": "861cc50e-b567-40bd-b857-5496e6171c55"
      },
      "execution_count": null,
      "outputs": [
        {
          "output_type": "stream",
          "name": "stdout",
          "text": [
            "Collecting catboost\n",
            "  Downloading catboost-1.0.4-cp37-none-manylinux1_x86_64.whl (76.1 MB)\n",
            "\u001b[K     |████████████████████████████████| 76.1 MB 69 kB/s \n",
            "\u001b[?25hRequirement already satisfied: pandas>=0.24.0 in /usr/local/lib/python3.7/dist-packages (from catboost) (1.1.5)\n",
            "Requirement already satisfied: matplotlib in /usr/local/lib/python3.7/dist-packages (from catboost) (3.2.2)\n",
            "Requirement already satisfied: numpy>=1.16.0 in /usr/local/lib/python3.7/dist-packages (from catboost) (1.19.5)\n",
            "Requirement already satisfied: plotly in /usr/local/lib/python3.7/dist-packages (from catboost) (5.5.0)\n",
            "Requirement already satisfied: scipy in /usr/local/lib/python3.7/dist-packages (from catboost) (1.4.1)\n",
            "Requirement already satisfied: six in /usr/local/lib/python3.7/dist-packages (from catboost) (1.15.0)\n",
            "Requirement already satisfied: graphviz in /usr/local/lib/python3.7/dist-packages (from catboost) (0.10.1)\n",
            "Requirement already satisfied: python-dateutil>=2.7.3 in /usr/local/lib/python3.7/dist-packages (from pandas>=0.24.0->catboost) (2.8.2)\n",
            "Requirement already satisfied: pytz>=2017.2 in /usr/local/lib/python3.7/dist-packages (from pandas>=0.24.0->catboost) (2018.9)\n",
            "Requirement already satisfied: cycler>=0.10 in /usr/local/lib/python3.7/dist-packages (from matplotlib->catboost) (0.11.0)\n",
            "Requirement already satisfied: pyparsing!=2.0.4,!=2.1.2,!=2.1.6,>=2.0.1 in /usr/local/lib/python3.7/dist-packages (from matplotlib->catboost) (3.0.7)\n",
            "Requirement already satisfied: kiwisolver>=1.0.1 in /usr/local/lib/python3.7/dist-packages (from matplotlib->catboost) (1.3.2)\n",
            "Requirement already satisfied: tenacity>=6.2.0 in /usr/local/lib/python3.7/dist-packages (from plotly->catboost) (8.0.1)\n",
            "Installing collected packages: catboost\n",
            "Successfully installed catboost-1.0.4\n",
            "CatBoost CV Score: 0.9980041906388333\n"
          ]
        }
      ]
    },
    {
      "cell_type": "markdown",
      "source": [
        "#### Models Test\n",
        "\n",
        "Test the model comparing the prediction on the `X_test` set with the `y_test` to be sure that the model is working well on new data. We compared the results ploting the confusion matrix.\n",
        "\n",
        "\n",
        "\n"
      ],
      "metadata": {
        "id": "_j-uklqcX33p"
      }
    },
    {
      "cell_type": "code",
      "source": [
        "from sklearn.metrics import confusion_matrix"
      ],
      "metadata": {
        "id": "F8YLVsfLYRdS"
      },
      "execution_count": null,
      "outputs": []
    },
    {
      "cell_type": "code",
      "source": [
        "logreg.fit(X_train, y_train)\n",
        "y_pred = logreg.predict(X_test)\n",
        "\n",
        "conf_mat = confusion_matrix(y_test, y_pred)\n",
        "sns.heatmap(conf_mat, cmap=\"Blues\", vmin=0, vmax=36000, annot=True,\n",
        "            xticklabels=[\"Player 1\", \"Draw\", \"Player 2\"],\n",
        "            yticklabels=[\"Player 1\", \"Draw\", \"Player 2\"])\n",
        "plt.title(\"Logistic Regression Confusion Matrix\", fontsize=15)\n",
        "plt.show()"
      ],
      "metadata": {
        "colab": {
          "base_uri": "https://localhost:8080/",
          "height": 283
        },
        "id": "VcINVH-2Kd05",
        "outputId": "2edab735-d47e-4c83-aaad-7e898a31ba31"
      },
      "execution_count": null,
      "outputs": [
        {
          "output_type": "display_data",
          "data": {
            "image/png": "[encoded data removed]",
            "text/plain": [
              "<Figure size 432x288 with 2 Axes>"
            ]
          },
          "metadata": {
            "needs_background": "light"
          }
        }
      ]
    },
    {
      "cell_type": "code",
      "source": [
        "gnb.fit(X_train, y_train)\n",
        "y_pred = gnb.predict(X_test)\n",
        "\n",
        "conf_mat = confusion_matrix(y_test, y_pred)\n",
        "sns.heatmap(conf_mat, cmap=\"Blues\", vmin=0, vmax=36000, annot=True,\n",
        "            xticklabels=[\"Player 1\", \"Draw\", \"Player 2\"],\n",
        "            yticklabels=[\"Player 1\", \"Draw\", \"Player 2\"])\n",
        "plt.title(\"Naive Bayes Confusion Matrix\", fontsize=15)\n",
        "plt.show()"
      ],
      "metadata": {
        "colab": {
          "base_uri": "https://localhost:8080/",
          "height": 283
        },
        "id": "RbS2uMXFYLWe",
        "outputId": "a460f786-ba4c-4f3f-cf29-c2b65aee1d04"
      },
      "execution_count": null,
      "outputs": [
        {
          "output_type": "display_data",
          "data": {
            "image/png": "[encoded data removed]",
            "text/plain": [
              "<Figure size 432x288 with 2 Axes>"
            ]
          },
          "metadata": {
            "needs_background": "light"
          }
        }
      ]
    },
    {
      "cell_type": "code",
      "source": [
        "rfc.fit(X_train, y_train)\n",
        "y_pred = rfc.predict(X_test)\n",
        "\n",
        "conf_mat = confusion_matrix(y_test, y_pred)\n",
        "sns.heatmap(conf_mat, cmap=\"Blues\", vmin=0, vmax=36000, annot=True,\n",
        "            xticklabels=[\"Player 1\", \"Draw\", \"Player 2\"],\n",
        "            yticklabels=[\"Player 1\", \"Draw\", \"Player 2\"])\n",
        "plt.title(\"Random Forest Confusion Matrix\", fontsize=15)\n",
        "plt.show()"
      ],
      "metadata": {
        "colab": {
          "base_uri": "https://localhost:8080/",
          "height": 283
        },
        "id": "Qi98HsyrY4kJ",
        "outputId": "b0a31d2d-4f7d-4a44-befe-f176eee5bf0e"
      },
      "execution_count": null,
      "outputs": [
        {
          "output_type": "display_data",
          "data": {
            "image/png": "[encoded data removed]",
            "text/plain": [
              "<Figure size 432x288 with 2 Axes>"
            ]
          },
          "metadata": {
            "needs_background": "light"
          }
        }
      ]
    },
    {
      "cell_type": "code",
      "source": [
        "xgb.fit(X_train, y_train)\n",
        "y_pred = xgb.predict(X_test)\n",
        "\n",
        "conf_mat = confusion_matrix(y_test, y_pred)\n",
        "sns.heatmap(conf_mat, cmap=\"Blues\", vmin=0, vmax=36000, annot=True,\n",
        "            xticklabels=[\"Player 1\", \"Draw\", \"Player 2\"],\n",
        "            yticklabels=[\"Player 1\", \"Draw\", \"Player 2\"])\n",
        "plt.title(\"XGBoost Confusion Matrix\", fontsize=15)\n",
        "plt.show()"
      ],
      "metadata": {
        "colab": {
          "base_uri": "https://localhost:8080/",
          "height": 283
        },
        "id": "45o5tTTUZM57",
        "outputId": "50e53199-97eb-4cba-a2e2-ce0f5582e191"
      },
      "execution_count": null,
      "outputs": [
        {
          "output_type": "display_data",
          "data": {
            "image/png": "[encoded data removed]",
            "text/plain": [
              "<Figure size 432x288 with 2 Axes>"
            ]
          },
          "metadata": {
            "needs_background": "light"
          }
        }
      ]
    },
    {
      "cell_type": "code",
      "source": [
        "lgbm.fit(X_train, y_train)\n",
        "y_pred = lgbm.predict(X_test)\n",
        "\n",
        "conf_mat = confusion_matrix(y_test, y_pred)\n",
        "sns.heatmap(conf_mat, cmap=\"Blues\", vmin=0, vmax=36000, annot=True,\n",
        "            xticklabels=[\"Player 1\", \"Draw\", \"Player 2\"],\n",
        "            yticklabels=[\"Player 1\", \"Draw\", \"Player 2\"])\n",
        "plt.title(\"LightGBM Confusion Matrix\", fontsize=15)\n",
        "plt.show()"
      ],
      "metadata": {
        "colab": {
          "base_uri": "https://localhost:8080/",
          "height": 283
        },
        "id": "-9-m-50zZX3M",
        "outputId": "3c5da472-7480-46de-c22a-2aa5aeaab0aa"
      },
      "execution_count": null,
      "outputs": [
        {
          "output_type": "display_data",
          "data": {
            "image/png": "[encoded data removed]",
            "text/plain": [
              "<Figure size 432x288 with 2 Axes>"
            ]
          },
          "metadata": {
            "needs_background": "light"
          }
        }
      ]
    },
    {
      "cell_type": "code",
      "source": [
        "catb.fit(X_train, y_train)\n",
        "y_pred = catb.predict(X_test)\n",
        "\n",
        "conf_mat = confusion_matrix(y_test, y_pred)\n",
        "sns.heatmap(conf_mat, cmap=\"Blues\", vmin=0, vmax=36000, annot=True,\n",
        "            xticklabels=[\"Player 1\", \"Draw\", \"Player 2\"],\n",
        "            yticklabels=[\"Player 1\", \"Draw\", \"Player 2\"])\n",
        "plt.title(\"CatBoost Confusion Matrix\", fontsize=15)\n",
        "plt.show()"
      ],
      "metadata": {
        "colab": {
          "base_uri": "https://localhost:8080/",
          "height": 283
        },
        "id": "WwCxx6gqZafy",
        "outputId": "85f5e575-8a9d-4368-e522-fb80d8f312a3"
      },
      "execution_count": null,
      "outputs": [
        {
          "output_type": "display_data",
          "data": {
            "image/png": "[encoded data removed]",
            "text/plain": [
              "<Figure size 432x288 with 2 Axes>"
            ]
          },
          "metadata": {
            "needs_background": "light"
          }
        }
      ]
    },
    {
      "cell_type": "markdown",
      "source": [
        "As we can see CatBoost Classifier got the best result in both training and testing datasets."
      ],
      "metadata": {
        "id": "Kl3r7aBBiwH9"
      }
    },
    {
      "cell_type": "markdown",
      "source": [
        "### Model Save"
      ],
      "metadata": {
        "id": "IyWD88U3bHS0"
      }
    },
    {
      "cell_type": "markdown",
      "source": [
        "Save the model as a `classifier.pkl` file to not have to train it every time.\n",
        "\n"
      ],
      "metadata": {
        "id": "uCkX6DnUi5vs"
      }
    },
    {
      "cell_type": "code",
      "source": [
        "catb = CatBoostClassifier(verbose=0, random_state=222)\n",
        "catb.fit(df.drop(columns=\"winner\"), df[\"winner\"])"
      ],
      "metadata": {
        "id": "SGu8hYgxZc3x",
        "colab": {
          "base_uri": "https://localhost:8080/"
        },
        "outputId": "1759fcc5-322a-464b-ae3b-a3df8f21646d"
      },
      "execution_count": null,
      "outputs": [
        {
          "output_type": "execute_result",
          "data": {
            "text/plain": [
              "<catboost.core.CatBoostClassifier at 0x7f83a05abcd0>"
            ]
          },
          "metadata": {},
          "execution_count": 26
        }
      ]
    },
    {
      "cell_type": "code",
      "source": [
        "import pickle\n",
        "\n",
        "filename = \"/content/gdrive/My Drive/machine-learning/connect-4-bot/classifier.pkl\"\n",
        "pickle.dump(catb, open(filename, \"wb\"))"
      ],
      "metadata": {
        "id": "5kkdH0XjbWXe"
      },
      "execution_count": null,
      "outputs": []
    },
    {
      "cell_type": "code",
      "source": [
        ""
      ],
      "metadata": {
        "id": "QvnFEbIhiNoJ"
      },
      "execution_count": null,
      "outputs": []
    }
  ]
}